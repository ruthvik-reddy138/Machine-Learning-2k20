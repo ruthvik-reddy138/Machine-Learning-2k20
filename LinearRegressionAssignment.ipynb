{
  "nbformat": 4,
  "nbformat_minor": 0,
  "metadata": {
    "kernelspec": {
      "display_name": "Python 3",
      "language": "python",
      "name": "python3"
    },
    "language_info": {
      "codemirror_mode": {
        "name": "ipython",
        "version": 3
      },
      "file_extension": ".py",
      "mimetype": "text/x-python",
      "name": "python",
      "nbconvert_exporter": "python",
      "pygments_lexer": "ipython3",
      "version": "3.7.3"
    },
    "colab": {
      "name": "LinearRegressionAssignment.ipynb",
      "provenance": []
    }
  },
  "cells": [
    {
      "cell_type": "markdown",
      "metadata": {
        "id": "Ok9ePpmm2PdQ",
        "colab_type": "text"
      },
      "source": [
        "1.\tWhat is Regression?"
      ]
    },
    {
      "cell_type": "markdown",
      "metadata": {
        "id": "7nlOKNZe2SU9",
        "colab_type": "text"
      },
      "source": [
        "Regression is basically a statistical approach to find the relationship between variables. In machine learning, this is used to predict the outcome of an event based on the relationship between variables obtained from the data-set. Linear regression is one type regression used in Machine Learning."
      ]
    },
    {
      "cell_type": "markdown",
      "metadata": {
        "id": "k_dplib02PdW",
        "colab_type": "text"
      },
      "source": [
        "2.\tWhat is Linear Regression?"
      ]
    },
    {
      "cell_type": "markdown",
      "metadata": {
        "id": "OSHkjqnM2jhE",
        "colab_type": "text"
      },
      "source": [
        "Linear Regression is a machine learning algorithm based on supervised learning. It performs a regression task. Regression models a target prediction value based on independent variables. ... Linear regression performs the task to predict a dependent variable value (y) based on a given independent variable (x)"
      ]
    },
    {
      "cell_type": "markdown",
      "metadata": {
        "id": "KLQjT2Ai2Pda",
        "colab_type": "text"
      },
      "source": [
        "3.\tWhen to use Linear Regression? Explain the equation of a straight line."
      ]
    },
    {
      "cell_type": "markdown",
      "metadata": {
        "id": "aUro3Wld2tUe",
        "colab_type": "text"
      },
      "source": [
        "The Linear Regression Equation\n",
        "The equation has the form Y= a + bX, where Y is the dependent variable (that's the variable that goes on the Y axis), X is the independent variable (i.e. it is plotted on the X axis), b is the slope of the line and a is the y-intercept.\n",
        "Linear regression is the next step up after correlation. It is used when we want to predict the value of a variable based on the value of another variable. The variable we want to predict is called the dependent variable (or sometimes, the outcome variable)."
      ]
    },
    {
      "cell_type": "markdown",
      "metadata": {
        "id": "gpVNUWGW2Pdf",
        "colab_type": "text"
      },
      "source": [
        "4.\tWhat kind of plots will you use to showcase the relationship amongst the columns?"
      ]
    },
    {
      "cell_type": "markdown",
      "metadata": {
        "id": "cmA4MXeM3KhL",
        "colab_type": "text"
      },
      "source": [
        "Scatter plots are used to determine the relationship between two variables. They show how much one variable is affected by another. It is the most commonly used data visualization technique and helps in drawing useful insights when comparing two variables. The relationship between two variables is called correlation."
      ]
    },
    {
      "cell_type": "markdown",
      "metadata": {
        "id": "REsBQouW2Pdl",
        "colab_type": "text"
      },
      "source": [
        "5.\tHow is the best fit line chosen?"
      ]
    },
    {
      "cell_type": "markdown",
      "metadata": {
        "id": "6JTAiG-Z3cwi",
        "colab_type": "text"
      },
      "source": [
        "A line of best fit can be roughly determined using an eyeball method by drawing a straight line on a scatter plot so that the number of points above the line and below the line is about equal (and the line passes through as many points as possible)."
      ]
    },
    {
      "cell_type": "markdown",
      "metadata": {
        "id": "v1RR2cuT2Pdr",
        "colab_type": "text"
      },
      "source": [
        "6.\tWhat is gradient descent, and why is it used? Explain the maths."
      ]
    },
    {
      "cell_type": "markdown",
      "metadata": {
        "id": "S2vnsn2S3_A8",
        "colab_type": "text"
      },
      "source": [
        "Gradient descent is an optimization algorithm used to minimize some function by iteratively moving in the direction of steepest descent as defined by the negative of the gradient. In machine learning, we use gradient descent to update the parameters of our model. Parameters refer to coefficients in Linear Regression and weights in neural networks."
      ]
    },
    {
      "cell_type": "markdown",
      "metadata": {
        "id": "xcafzYoy37eA",
        "colab_type": "text"
      },
      "source": [
        "Given the cost function:\n",
        "\n",
        "f(m,b)=1N∑i=1n(yi−(mxi+b))2\n",
        "The gradient can be calculated as:\n",
        "\n",
        "f′(m,b)=⎡⎣dfdmdfdb⎤⎦=[1N∑−2xi(yi−(mxi+b))1N∑−2(yi−(mxi+b))]"
      ]
    },
    {
      "cell_type": "markdown",
      "metadata": {
        "id": "dqjTbsum2Pdu",
        "colab_type": "text"
      },
      "source": [
        "7.\tWhat are residuals?"
      ]
    },
    {
      "cell_type": "markdown",
      "metadata": {
        "id": "97BH5jyZ4s6E",
        "colab_type": "text"
      },
      "source": [
        "Residuals in a statistical or machine learning model are the differences between observed and predicted values of data. They are a diagnostic measure used when assessing the quality of a model. They are also known as errors."
      ]
    },
    {
      "cell_type": "markdown",
      "metadata": {
        "id": "ghfO_6Rc2Pdx",
        "colab_type": "text"
      },
      "source": [
        "8.\tWhat is correlation?"
      ]
    },
    {
      "cell_type": "markdown",
      "metadata": {
        "id": "Pja6MQH442DR",
        "colab_type": "text"
      },
      "source": [
        "Correlation is a term that is a measure of the strength of a linear relationship between two quantitative variables (e.g., height, weight). ... Positive correlation is a relationship between two variables in which both variables move in the same direction."
      ]
    },
    {
      "cell_type": "markdown",
      "metadata": {
        "id": "zD9XF9pM2Pd4",
        "colab_type": "text"
      },
      "source": [
        "9.\tWhat is multicollinearity?"
      ]
    },
    {
      "cell_type": "markdown",
      "metadata": {
        "id": "gtFO4qvL43oA",
        "colab_type": "text"
      },
      "source": [
        "Multicollinearity occurs when independent variables in a regression model are correlated. This correlation is a problem because independent variables should be independent. If the degree of correlation between variables is high enough, it can cause problems when you fit the model and interpret the results."
      ]
    },
    {
      "cell_type": "markdown",
      "metadata": {
        "id": "h8ZAZ4xm2Pd7",
        "colab_type": "text"
      },
      "source": [
        "10.\tHow to detect multicollinearity?"
      ]
    },
    {
      "cell_type": "markdown",
      "metadata": {
        "id": "umzPSXoQ5MEx",
        "colab_type": "text"
      },
      "source": [
        "Multicollinearity can also be detected with the help of tolerance and its reciprocal, called variance inflation factor (VIF). If the value of tolerance is less than 0.2 or 0.1 and, simultaneously, the value of VIF 10 and above, then the multicollinearity is problematic."
      ]
    },
    {
      "cell_type": "markdown",
      "metadata": {
        "id": "AgfDzPHE2Pd9",
        "colab_type": "text"
      },
      "source": [
        "11.\tWhat are the remedies for multicollinearity?"
      ]
    },
    {
      "cell_type": "markdown",
      "metadata": {
        "id": "rPCsat7X5VmZ",
        "colab_type": "text"
      },
      "source": [
        "Remove some of the highly correlated independent variables.\n",
        "Linearly combine the independent variables, such as adding them together.\n",
        "Perform an analysis designed for highly correlated variables, such as principal components analysis or partial least squares regression"
      ]
    },
    {
      "cell_type": "markdown",
      "metadata": {
        "id": "TDog_9Z_2PeA",
        "colab_type": "text"
      },
      "source": [
        "12.\tWhat is the R-Squared Statistics?"
      ]
    },
    {
      "cell_type": "markdown",
      "metadata": {
        "id": "OwyrUsJJ5jtG",
        "colab_type": "text"
      },
      "source": [
        "R-squared (R2) is a statistical measure that represents the proportion of the variance for a dependent variable that's explained by an independent variable or variables in a regression model. ... So, if the R2 of a model is 0.50, then approximately half of the observed variation can be explained by the model's inputs"
      ]
    },
    {
      "cell_type": "markdown",
      "metadata": {
        "id": "H8x8oOi92PeC",
        "colab_type": "text"
      },
      "source": [
        "13.\tWhat is an adjusted R-Squared Statistics?"
      ]
    },
    {
      "cell_type": "markdown",
      "metadata": {
        "id": "7yKTvWpB5tgg",
        "colab_type": "text"
      },
      "source": [
        "The adjusted R-squared is a modified version of R-squared that has been adjusted for the number of predictors in the model. The adjusted R-squared increases only if the new term improves the model more than would be expected by chance. It decreases when a predictor improves the model by less than expected by chance."
      ]
    },
    {
      "cell_type": "markdown",
      "metadata": {
        "id": "tnwYASAa2PeE",
        "colab_type": "text"
      },
      "source": [
        "14.\tWhy do we use adj R-squared?"
      ]
    },
    {
      "cell_type": "markdown",
      "metadata": {
        "id": "GHLHUoFR5z9P",
        "colab_type": "text"
      },
      "source": [
        "Adjusted R-squared is used to determine how reliable the correlation is and how much is determined by the addition of independent variables"
      ]
    },
    {
      "cell_type": "markdown",
      "metadata": {
        "id": "ikfIvkzX2PeG",
        "colab_type": "text"
      },
      "source": [
        "15.\tWhy adj R-squared decreases when we use incompetent variables?\n",
        "\n"
      ]
    },
    {
      "cell_type": "markdown",
      "metadata": {
        "id": "8qjzlfOm6Te7",
        "colab_type": "text"
      },
      "source": [
        "The formulae of adjusted R2 takes into account the number of independent variables in the model. AS a general thumb rule if adjusted R 2 increases when a new variables is added to the model, the variable should remain in the model. If the adjusted R2 decreases when the new variable is added then the variable should not remain in the model. Other factors may also be considered."
      ]
    },
    {
      "cell_type": "markdown",
      "metadata": {
        "id": "X4jdkSM42PeJ",
        "colab_type": "text"
      },
      "source": [
        "16.\tHow to interpret a Linear Regression model?"
      ]
    },
    {
      "cell_type": "markdown",
      "metadata": {
        "id": "RPMZBq2B6k7v",
        "colab_type": "text"
      },
      "source": [
        "In simple or multiple linear regression, the size of the coefficient for each independent variable gives you the size of the effect that variable is having on your dependent variable, and the sign on the coefficient (positive or negative) gives you the direction of the effect."
      ]
    },
    {
      "cell_type": "markdown",
      "metadata": {
        "id": "jpzBwtDr2PeL",
        "colab_type": "text"
      },
      "source": [
        "17.\tWhat is the difference between fit, fit_transform and predict methods?"
      ]
    },
    {
      "cell_type": "markdown",
      "metadata": {
        "id": "XxCa1div6twg",
        "colab_type": "text"
      },
      "source": [
        "\"fit\" computes the mean and std to be used for later scaling. (just a computation), nothing is given to you. \"transform\" uses a previously computed mean and std to autoscale the data (subtract mean from all values and then divide it by std). \"fit_transform\" does both at the same time."
      ]
    },
    {
      "cell_type": "markdown",
      "metadata": {
        "id": "IQEYmKYt2PeN",
        "colab_type": "text"
      },
      "source": [
        "18.\tHow do you plot the least squared line?"
      ]
    },
    {
      "cell_type": "markdown",
      "metadata": {
        "id": "EfpleHtZ2PeP",
        "colab_type": "text"
      },
      "source": [
        "19.\tWhat are Bias and Variance? What is Bias Variance Trade-off?"
      ]
    },
    {
      "cell_type": "markdown",
      "metadata": {
        "id": "r80V3UOg8E-d",
        "colab_type": "text"
      },
      "source": [
        "Bias is the difference between the average prediction of our model and the correct value which we are trying to predict. Model with high bias pays very little attention to the training data and oversimplifies the model. It always leads to high error on training and test data."
      ]
    },
    {
      "cell_type": "markdown",
      "metadata": {
        "id": "YSduLKyr8GFl",
        "colab_type": "text"
      },
      "source": [
        "Variance is the variability of model prediction for a given data point or a value which tells us spread of our data. Model with high variance pays a lot of attention to training data and does not generalize on the data which it hasn’t seen before. As a result, such models perform very well on training data but has high error rates on test data."
      ]
    },
    {
      "cell_type": "markdown",
      "metadata": {
        "id": "3R_hVri-8J_j",
        "colab_type": "text"
      },
      "source": [
        "If our model is too simple and has very few parameters then it may have high bias and low variance. On the other hand if our model has large number of parameters then it’s going to have high variance and low bias. So we need to find the right/good balance without overfitting and underfitting the data.\n",
        "This tradeoff in complexity is why there is a tradeoff between bias and variance. An algorithm can’t be more complex and less complex at the same time.\n",
        "Total Error\n",
        "To build a good model, we need to find a good balance between bias and variance such that it minimizes the total error.\n"
      ]
    },
    {
      "cell_type": "markdown",
      "metadata": {
        "id": "COtdB3Dn2PeR",
        "colab_type": "text"
      },
      "source": [
        "20.\tWhat is the null and alternate hypothesis?"
      ]
    },
    {
      "cell_type": "markdown",
      "metadata": {
        "id": "h1UV984_8awy",
        "colab_type": "text"
      },
      "source": [
        "The null hypothesis states that a population parameter (such as the mean, the standard deviation, and so on) is equal to a hypothesized value. ... The alternative hypothesis states that a population parameter is smaller, greater, or different than the hypothesized value in the null hypothesis."
      ]
    },
    {
      "cell_type": "markdown",
      "metadata": {
        "id": "dg1HG_u42PeT",
        "colab_type": "text"
      },
      "source": [
        "21.\tWhat is multiple linear regression?"
      ]
    },
    {
      "cell_type": "markdown",
      "metadata": {
        "id": "YdilTwfe8cqK",
        "colab_type": "text"
      },
      "source": [
        "Multiple linear regression (MLR), also known simply as multiple regression, is a statistical technique that uses several explanatory variables to predict the outcome of a response variable. Multiple regression is an extension of linear (OLS) regression that uses just one explanatory variable."
      ]
    },
    {
      "cell_type": "markdown",
      "metadata": {
        "id": "1UiZVpbn2PeW",
        "colab_type": "text"
      },
      "source": [
        "22.\tWhat is the OLS method? Derive the formulae used in the OLS method."
      ]
    },
    {
      "cell_type": "markdown",
      "metadata": {
        "id": "Ym_c_n5n8jg-",
        "colab_type": "text"
      },
      "source": [
        "In statistics, ordinary least squares (OLS) is a type of linear least squares method for estimating the unknown parameters in a linear regression model. ... Under these conditions, the method of OLS provides minimum-variance mean-unbiased estimation when the errors have finite variances."
      ]
    },
    {
      "cell_type": "markdown",
      "metadata": {
        "id": "OKEkufSL2PeY",
        "colab_type": "text"
      },
      "source": [
        "23.\tWhat is the p-value? How does it help in feature selection?"
      ]
    },
    {
      "cell_type": "markdown",
      "metadata": {
        "id": "KtAfeY0Q9V4C",
        "colab_type": "text"
      },
      "source": [
        " Removal of different features from the dataset will have different effects on the p-value for the dataset. We can remove different features and measure the p-value in each case. These measured p-values can be used to decide whether to keep a feature or not"
      ]
    },
    {
      "cell_type": "markdown",
      "metadata": {
        "id": "uxfX8ooF2Pea",
        "colab_type": "text"
      },
      "source": [
        "24.\tHow to handle categorical values in the data?"
      ]
    },
    {
      "cell_type": "markdown",
      "metadata": {
        "id": "pquddx5D92oX",
        "colab_type": "text"
      },
      "source": [
        "Categorical Data is the data that generally takes a limited number of possible values. Also, the data in the category need not be numerical, it can be textual in nature. All machine learning models are some kind of mathematical model that need numbers to work with. This is one of the primary reasons we need to pre-process the categorical data before we can feed it to machine learning models."
      ]
    },
    {
      "cell_type": "markdown",
      "metadata": {
        "id": "d4vQC8zk2Pec",
        "colab_type": "text"
      },
      "source": [
        "25.\tWhat is regularization, and why do we need it?"
      ]
    },
    {
      "cell_type": "markdown",
      "metadata": {
        "id": "JYmJnnpf9_0Q",
        "colab_type": "text"
      },
      "source": [
        "Search Results\n",
        "Featured snippet from the web\n",
        "The word regularize means to make things regular or acceptable. This is exactly why we use it for. Regularizations are techniques used to reduce the error by fitting a function appropriately on the given training set and avoid overfitting."
      ]
    },
    {
      "cell_type": "markdown",
      "metadata": {
        "id": "6GzquzK42Pee",
        "colab_type": "text"
      },
      "source": [
        "26.\tExplain Ridge Regression."
      ]
    },
    {
      "cell_type": "markdown",
      "metadata": {
        "id": "vuei-3w6-IzX",
        "colab_type": "text"
      },
      "source": [
        "Search Results\n",
        "Featured snippet from the web\n",
        "Ridge Regression: Simple Definition. Share on. Regression Analysis > Ridge regression is a way to create a parsimonious model when the number of predictor variables in a set exceeds the number of observations, or when a data set has multicollinearity (correlations between predictor variables)."
      ]
    },
    {
      "cell_type": "markdown",
      "metadata": {
        "id": "J0rNzNWs2Peg",
        "colab_type": "text"
      },
      "source": [
        "27.\tExplain Lasso Regression."
      ]
    },
    {
      "cell_type": "markdown",
      "metadata": {
        "id": "hzsv5gzD-SzM",
        "colab_type": "text"
      },
      "source": [
        "Lasso regression is a type of linear regression that uses shrinkage. Shrinkage is where data values are shrunk towards a central point, like the mean. The lasso procedure encourages simple, sparse models (i.e. models with fewer parameters). This particular type of regression is well-suited for models showing high levels of muticollinearity or when you want to automate certain parts of model selection, like variable selection/parameter elimination.\n",
        "\n",
        "The acronym “LASSO” stands for Least Absolute Shrinkage and Selection Operator."
      ]
    },
    {
      "cell_type": "markdown",
      "metadata": {
        "id": "JGBcPfVJ2Pei",
        "colab_type": "text"
      },
      "source": [
        "28.\tExplain Elastic Net."
      ]
    },
    {
      "cell_type": "markdown",
      "metadata": {
        "id": "22ZhbQtD-U3_",
        "colab_type": "text"
      },
      "source": [
        "\n",
        "Elastic net linear regression uses the penalties from both the lasso and ridge techniques to regularize regression models. The technique combines both the lasso and ridge regression methods by learning from their shortcomings to improve on the regularization of statistical models.\n",
        "\n",
        " "
      ]
    },
    {
      "cell_type": "markdown",
      "metadata": {
        "id": "PY9CELdd2Pek",
        "colab_type": "text"
      },
      "source": [
        "29.\tWhy do we do a train test split?"
      ]
    },
    {
      "cell_type": "markdown",
      "metadata": {
        "id": "82wnEjlp-oyj",
        "colab_type": "text"
      },
      "source": [
        "As I said before, the data we use is usually split into training data and test data. The training set contains a known output and the model learns on this data in order to be generalized to other data later on. We have the test dataset (or subset) in order to test our model’s prediction on this subset."
      ]
    },
    {
      "cell_type": "markdown",
      "metadata": {
        "id": "WsbLRiHs2Pem",
        "colab_type": "text"
      },
      "source": [
        "30.\tWhat is polynomial regression? When to use it?"
      ]
    },
    {
      "cell_type": "markdown",
      "metadata": {
        "id": "0Xnkmlfo-4dj",
        "colab_type": "text"
      },
      "source": [
        "In statistics, polynomial regression is a form of regression analysis in which the relationship between the independent variable x and the dependent variable y is modelled as an nth degree polynomial in x. ... Such variables are also used in classification settings."
      ]
    },
    {
      "cell_type": "markdown",
      "metadata": {
        "id": "zpPBOYQ42Peo",
        "colab_type": "text"
      },
      "source": [
        "31.\tExplain the steps for GCP deployment."
      ]
    },
    {
      "cell_type": "markdown",
      "metadata": {
        "id": "wbQip5tG_ZaN",
        "colab_type": "text"
      },
      "source": [
        "Deploy using the following command:\n",
        "\n",
        "gcloud run deploy platform managed\n",
        "\n",
        "Replace PROJECT-ID with your GCP project ID. You can view your project ID by running the command gcloud config get-value project.\n",
        "\n",
        "You will be prompted for the service name: press Enter to accept the default name, helloworld.\n",
        "You will be prompted for region: select the region of your choice, for example us-central1.\n",
        "You will be prompted to allow unauthenticated invocations: respond y .\n",
        "Then wait a few moments until the deployment is complete. On success, the command line displays the service URL.\n",
        "\n",
        "Visit your deployed container by opening the service URL in a web browser.\n",
        "\n",
        "Congratulations! You have just deployed an application packaged in a container image to Cloud Run. Cloud Run automatically and horizontally scales your container image to handle the received requests, then scales down when demand decreases. You only pay for the CPU, memory, and networking consumed during request handling.\n",
        "\n",
        "Clean up\n",
        "Removing your test project\n",
        "While Cloud Run does not charge when the service is not in use, you might still be charged for storing the container image in Container Registry. You can delete your image or delete your Cloud project to avoid incurring charges. Deleting your Cloud project stops billing for all the resources used within that project.\n",
        "\n",
        "Caution: Deleting a project has the following effects:\n",
        "Everything in the project is deleted. If you used an existing project for this tutorial, when you delete it, you also delete any other work you've done in the project.\n",
        "Custom project IDs are lost. When you created this project, you might have created a custom project ID that you want to use in the future. To preserve the URLs that use the project ID, such as an appspot.com URL, delete selected resources inside the project instead of deleting the whole project.\n",
        "In the Cloud Console, go to the Manage resources page.\n",
        "Go to the Manage resources page"
      ]
    },
    {
      "cell_type": "markdown",
      "metadata": {
        "id": "Ibl_Qpgo2Peq",
        "colab_type": "text"
      },
      "source": [
        "32. What difficulties did you face in cloud deployment?"
      ]
    },
    {
      "cell_type": "code",
      "metadata": {
        "id": "oYlWS2YV2Peq",
        "colab_type": "code",
        "colab": {}
      },
      "source": [
        ""
      ],
      "execution_count": null,
      "outputs": []
    }
  ]
}