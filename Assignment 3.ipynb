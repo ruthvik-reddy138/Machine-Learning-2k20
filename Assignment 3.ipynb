{
 "cells": [
  {
   "cell_type": "markdown",
   "metadata": {},
   "source": [
    "Task 1\n",
    "question number 1"
   ]
  },
  {
   "cell_type": "code",
   "execution_count": 2,
   "metadata": {},
   "outputs": [
    {
     "name": "stdout",
     "output_type": "stream",
     "text": [
      "thats a zerodivisionerror!!!\n",
      "but,\n",
      "anyhow...! executed\n"
     ]
    }
   ],
   "source": [
    "try:\n",
    "    a=5/0\n",
    "    print(a)\n",
    "    print(\"thats the answer\")\n",
    "except ZeroDivisionError:\n",
    "    print (\"thats a zerodivisionerror!!!\")\n",
    "finally:\n",
    "    print ('but,\\nanyhow...! executed')"
   ]
  },
  {
   "cell_type": "markdown",
   "metadata": {},
   "source": [
    "question number 2"
   ]
  },
  {
   "cell_type": "code",
   "execution_count": 11,
   "metadata": {},
   "outputs": [
    {
     "name": "stdout",
     "output_type": "stream",
     "text": [
      "Output:\n",
      "Americans  play Baseball.\n",
      "Americans  play Cricket.\n",
      "Americans  watch Baseball.\n",
      "Americans  watch Cricket.\n",
      "Indians play Baseball.\n",
      "Indians play Cricket.\n",
      "Indians watch Baseball.\n",
      "Indians watch Cricket.\n"
     ]
    }
   ],
   "source": [
    "subject=[\"Americans \",\"Indians\"]\n",
    "verb=[\"play\",\"watch\"]\n",
    "object=[\"Baseball\",\"Cricket\"]\n",
    "Syntax = [(Sub+' '+vrb+' '+Obj+\".\") for Sub in subject for vrb in verb for Obj in objects]\n",
    "print(\"Output:\")\n",
    "for syn in Syntax:    \n",
    "    print(syn)\n"
   ]
  },
  {
   "cell_type": "markdown",
   "metadata": {},
   "source": [
    "Task 2\n",
    "question number 1"
   ]
  },
  {
   "cell_type": "code",
   "execution_count": 34,
   "metadata": {},
   "outputs": [
    {
     "name": "stdout",
     "output_type": "stream",
     "text": [
      "\n",
      " alexander theophile vandermonde matrix:\n",
      "1\t1\t1\t1\t1\n",
      "16\t8\t4\t2\t1\n",
      "81\t27\t9\t3\t1\n",
      "256\t64\t16\t4\t1\n"
     ]
    }
   ],
   "source": [
    "def powerofmatrix(vect,power):\n",
    "    for ele in range(power-1,-1,-1):\n",
    "        for ele in vect:\n",
    "            input = [1,2,3,4]\n",
    "            for i in input:\n",
    "                print(i)\n",
    "            power = 5\n",
    "            output = powerofmatrix(vect,power)\n",
    "print(\"\\n alexander theophile vandermonde matrix:\")\n",
    "\n",
    "print(\"\\n\".join([\"\\t\".join([str(ele) for ele in row]) for row in output ]))"
   ]
  }
 ],
 "metadata": {
  "kernelspec": {
   "display_name": "Python 3",
   "language": "python",
   "name": "python3"
  },
  "language_info": {
   "codemirror_mode": {
    "name": "ipython",
    "version": 3
   },
   "file_extension": ".py",
   "mimetype": "text/x-python",
   "name": "python",
   "nbconvert_exporter": "python",
   "pygments_lexer": "ipython3",
   "version": "3.7.4"
  }
 },
 "nbformat": 4,
 "nbformat_minor": 2
}
